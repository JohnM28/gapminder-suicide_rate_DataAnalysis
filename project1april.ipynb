{
 "cells": [
  {
   "cell_type": "markdown",
   "metadata": {},
   "source": [
    "\n",
    "\n",
    "# Project: Analyising Suicide data and if it has relation to the country's economics and standard of living\n",
    "\n",
    "## Table of Contents\n",
    "<ul>\n",
    "<li><a href=\"#intro\">Introduction</a></li>\n",
    "<li><a href=\"#wrangling\">Data Wrangling</a></li>\n",
    "<li><a href=\"#eda\">Exploratory Data Analysis</a></li>\n",
    "<li><a href=\"#conclusions\">Conclusions</a></li>\n",
    "</ul>"
   ]
  },
  {
   "cell_type": "markdown",
   "metadata": {},
   "source": [
    "<a id='intro'></a>\n",
    "## Introduction\n",
    "By gathering and combining several Datasets(individual indicators) from GAPMINDER into one useable and clean Dataset in a specific timeframe(2006:2016). first, we're going to use the Suicide cases and the population inindicators to identify the suicide rate since the data for the suicide rate in gapminder is not complete and invistigate it at a closer look. then we are going to use the GPD/per capta and the HDI (human develpment index) as indicators for the standard of living and economy for each country and see if there is any correlation between them and the suicide rate in each country. \n"
   ]
  },
  {
   "cell_type": "code",
   "execution_count": 1,
   "metadata": {},
   "outputs": [],
   "source": [
    "#libraries\n",
    "import numpy as np\n",
    "import pandas as pd\n",
    "import matplotlib as plt\n",
    "import matplotlib.pyplot as plt\n",
    "import seaborn as sns\n",
    "\n",
    "%matplotlib inline"
   ]
  },
  {
   "cell_type": "markdown",
   "metadata": {},
   "source": [
    "<a id='wrangling'></a>\n",
    "## Data Wrangling\n",
    "\n",
    "### General Properties"
   ]
  },
  {
   "cell_type": "code",
   "execution_count": 2,
   "metadata": {},
   "outputs": [
    {
     "data": {
      "text/html": [
       "<div>\n",
       "<style scoped>\n",
       "    .dataframe tbody tr th:only-of-type {\n",
       "        vertical-align: middle;\n",
       "    }\n",
       "\n",
       "    .dataframe tbody tr th {\n",
       "        vertical-align: top;\n",
       "    }\n",
       "\n",
       "    .dataframe thead th {\n",
       "        text-align: right;\n",
       "    }\n",
       "</style>\n",
       "<table border=\"1\" class=\"dataframe\">\n",
       "  <thead>\n",
       "    <tr style=\"text-align: right;\">\n",
       "      <th></th>\n",
       "      <th>country</th>\n",
       "      <th>1960</th>\n",
       "      <th>1961</th>\n",
       "      <th>1962</th>\n",
       "      <th>1963</th>\n",
       "      <th>1964</th>\n",
       "      <th>1965</th>\n",
       "      <th>1966</th>\n",
       "      <th>1967</th>\n",
       "      <th>1968</th>\n",
       "      <th>...</th>\n",
       "      <th>2010</th>\n",
       "      <th>2011</th>\n",
       "      <th>2012</th>\n",
       "      <th>2013</th>\n",
       "      <th>2014</th>\n",
       "      <th>2015</th>\n",
       "      <th>2016</th>\n",
       "      <th>2017</th>\n",
       "      <th>2018</th>\n",
       "      <th>2019</th>\n",
       "    </tr>\n",
       "  </thead>\n",
       "  <tbody>\n",
       "    <tr>\n",
       "      <th>0</th>\n",
       "      <td>Afghanistan</td>\n",
       "      <td>NaN</td>\n",
       "      <td>NaN</td>\n",
       "      <td>NaN</td>\n",
       "      <td>NaN</td>\n",
       "      <td>NaN</td>\n",
       "      <td>NaN</td>\n",
       "      <td>NaN</td>\n",
       "      <td>NaN</td>\n",
       "      <td>NaN</td>\n",
       "      <td>...</td>\n",
       "      <td>543</td>\n",
       "      <td>529.0</td>\n",
       "      <td>576.0</td>\n",
       "      <td>588.0</td>\n",
       "      <td>584.0</td>\n",
       "      <td>574.0</td>\n",
       "      <td>571.0</td>\n",
       "      <td>572.0</td>\n",
       "      <td>568.0</td>\n",
       "      <td>571.0</td>\n",
       "    </tr>\n",
       "    <tr>\n",
       "      <th>1</th>\n",
       "      <td>Albania</td>\n",
       "      <td>NaN</td>\n",
       "      <td>NaN</td>\n",
       "      <td>NaN</td>\n",
       "      <td>NaN</td>\n",
       "      <td>NaN</td>\n",
       "      <td>NaN</td>\n",
       "      <td>NaN</td>\n",
       "      <td>NaN</td>\n",
       "      <td>NaN</td>\n",
       "      <td>...</td>\n",
       "      <td>4090</td>\n",
       "      <td>4210.0</td>\n",
       "      <td>4280.0</td>\n",
       "      <td>4330.0</td>\n",
       "      <td>4410.0</td>\n",
       "      <td>4520.0</td>\n",
       "      <td>4680.0</td>\n",
       "      <td>4860.0</td>\n",
       "      <td>5070.0</td>\n",
       "      <td>5210.0</td>\n",
       "    </tr>\n",
       "    <tr>\n",
       "      <th>2</th>\n",
       "      <td>Algeria</td>\n",
       "      <td>2480.0</td>\n",
       "      <td>2090.0</td>\n",
       "      <td>1640.0</td>\n",
       "      <td>2150.0</td>\n",
       "      <td>2210.0</td>\n",
       "      <td>2290.0</td>\n",
       "      <td>2120.0</td>\n",
       "      <td>2260.0</td>\n",
       "      <td>2430.0</td>\n",
       "      <td>...</td>\n",
       "      <td>4480</td>\n",
       "      <td>4520.0</td>\n",
       "      <td>4590.0</td>\n",
       "      <td>4620.0</td>\n",
       "      <td>4700.0</td>\n",
       "      <td>4780.0</td>\n",
       "      <td>4830.0</td>\n",
       "      <td>4790.0</td>\n",
       "      <td>4760.0</td>\n",
       "      <td>4710.0</td>\n",
       "    </tr>\n",
       "  </tbody>\n",
       "</table>\n",
       "<p>3 rows × 61 columns</p>\n",
       "</div>"
      ],
      "text/plain": [
       "       country    1960    1961    1962    1963    1964    1965    1966  \\\n",
       "0  Afghanistan     NaN     NaN     NaN     NaN     NaN     NaN     NaN   \n",
       "1      Albania     NaN     NaN     NaN     NaN     NaN     NaN     NaN   \n",
       "2      Algeria  2480.0  2090.0  1640.0  2150.0  2210.0  2290.0  2120.0   \n",
       "\n",
       "     1967    1968  ...  2010    2011    2012    2013    2014    2015    2016  \\\n",
       "0     NaN     NaN  ...   543   529.0   576.0   588.0   584.0   574.0   571.0   \n",
       "1     NaN     NaN  ...  4090  4210.0  4280.0  4330.0  4410.0  4520.0  4680.0   \n",
       "2  2260.0  2430.0  ...  4480  4520.0  4590.0  4620.0  4700.0  4780.0  4830.0   \n",
       "\n",
       "     2017    2018    2019  \n",
       "0   572.0   568.0   571.0  \n",
       "1  4860.0  5070.0  5210.0  \n",
       "2  4790.0  4760.0  4710.0  \n",
       "\n",
       "[3 rows x 61 columns]"
      ]
     },
     "execution_count": 2,
     "metadata": {},
     "output_type": "execute_result"
    }
   ],
   "source": [
    "#reading our data sets\n",
    "pop_raw=pd.read_csv('population_total.csv')\n",
    "suicide_raw=pd.read_csv('suicide_total_deaths.csv')\n",
    "hdi_raw=pd.read_csv('hdi_human_development_index.csv')\n",
    "gpd_raw=pd.read_csv('gdppercapita_us_inflation_adjusted.csv')\n",
    "\n",
    "gpd_raw.head(3)"
   ]
  },
  {
   "cell_type": "markdown",
   "metadata": {},
   "source": [
    "In here we find a sample of the datasets we have. to be more accurate we are going to pick a recent specific time frame, that would give the best results for the data we have. \n",
    "we are going to need to decide a specific time frame"
   ]
  },
  {
   "cell_type": "code",
   "execution_count": 3,
   "metadata": {},
   "outputs": [
    {
     "name": "stdout",
     "output_type": "stream",
     "text": [
      "1800 2100\n",
      "1990 2016\n",
      "1990 2018\n",
      "1960 2019\n"
     ]
    }
   ],
   "source": [
    "print(pop_raw.columns[1]+' '+pop_raw.columns[-1])\n",
    "print(suicide_raw.columns[1]+' '+suicide_raw.columns[-1])\n",
    "print(hdi_raw.columns[1]+' '+hdi_raw.columns[-1])\n",
    "print(gpd_raw.columns[1]+' '+gpd_raw.columns[-1])"
   ]
  },
  {
   "cell_type": "markdown",
   "metadata": {},
   "source": [
    "We are going to choose data from 2006 to 2016"
   ]
  },
  {
   "cell_type": "code",
   "execution_count": 4,
   "metadata": {},
   "outputs": [
    {
     "name": "stdout",
     "output_type": "stream",
     "text": [
      "(187, 28)\n",
      "(195, 302)\n",
      "(188, 30)\n",
      "(191, 61)\n"
     ]
    }
   ],
   "source": [
    "#structure of the datasets\n",
    "print(suicide_raw.shape)\n",
    "print(pop_raw.shape)\n",
    "print(hdi_raw.shape)\n",
    "print(gpd_raw.shape)"
   ]
  },
  {
   "cell_type": "markdown",
   "metadata": {},
   "source": [
    "Because the shape of the data, it would be hard to merge the datasets together. so reshaping the data into a more appealing way is in need."
   ]
  },
  {
   "cell_type": "code",
   "execution_count": 5,
   "metadata": {},
   "outputs": [
    {
     "name": "stdout",
     "output_type": "stream",
     "text": [
      "187\n",
      "195\n",
      "188\n",
      "191\n"
     ]
    }
   ],
   "source": [
    "#Number of countries in each dataset\n",
    "print(suicide_raw.country.nunique())\n",
    "print(pop_raw.country.nunique())\n",
    "print(hdi_raw.country.nunique())\n",
    "print(gpd_raw.country.nunique())"
   ]
  },
  {
   "cell_type": "code",
   "execution_count": 6,
   "metadata": {},
   "outputs": [
    {
     "data": {
      "text/plain": [
       "False"
      ]
     },
     "execution_count": 6,
     "metadata": {},
     "output_type": "execute_result"
    }
   ],
   "source": [
    "suicide_raw.country.nunique()==pop_raw.country.nunique()"
   ]
  },
  {
   "cell_type": "markdown",
   "metadata": {},
   "source": [
    "Second major problem would be that each set has diffrerent countries value, so merging them would be an issue."
   ]
  },
  {
   "cell_type": "markdown",
   "metadata": {},
   "source": [
    "> **Tip**: You should _not_ perform too many operations in each cell. Create cells freely to explore your data. One option that you can take with this project is to do a lot of explorations in an initial notebook. These don't have to be organized, but make sure you use enough comments to understand the purpose of each code cell. Then, after you're done with your analysis, create a duplicate notebook where you will trim the excess and organize your steps so that you have a flowing, cohesive report.\n",
    "\n",
    "> **Tip**: Make sure that you keep your reader informed on the steps that you are taking in your investigation. Follow every code cell, or every set of related code cells, with a markdown cell to describe to the reader what was found in the preceding cell(s). Try to make it so that the reader can then understand what they will be seeing in the following cell(s).\n",
    "\n",
    "### Data Cleaning (Replace this with more specific notes!)"
   ]
  },
  {
   "cell_type": "code",
   "execution_count": 7,
   "metadata": {},
   "outputs": [
    {
     "data": {
      "text/html": [
       "<div>\n",
       "<style scoped>\n",
       "    .dataframe tbody tr th:only-of-type {\n",
       "        vertical-align: middle;\n",
       "    }\n",
       "\n",
       "    .dataframe tbody tr th {\n",
       "        vertical-align: top;\n",
       "    }\n",
       "\n",
       "    .dataframe thead th {\n",
       "        text-align: right;\n",
       "    }\n",
       "</style>\n",
       "<table border=\"1\" class=\"dataframe\">\n",
       "  <thead>\n",
       "    <tr style=\"text-align: right;\">\n",
       "      <th></th>\n",
       "      <th>country</th>\n",
       "      <th>2006</th>\n",
       "      <th>2007</th>\n",
       "      <th>2008</th>\n",
       "      <th>2009</th>\n",
       "      <th>2010</th>\n",
       "      <th>2011</th>\n",
       "      <th>2012</th>\n",
       "      <th>2013</th>\n",
       "      <th>2014</th>\n",
       "      <th>2015</th>\n",
       "      <th>2016</th>\n",
       "    </tr>\n",
       "  </thead>\n",
       "  <tbody>\n",
       "    <tr>\n",
       "      <th>0</th>\n",
       "      <td>Afghanistan</td>\n",
       "      <td>1650.00</td>\n",
       "      <td>1680.00</td>\n",
       "      <td>1710.00</td>\n",
       "      <td>1750.00</td>\n",
       "      <td>1760.00</td>\n",
       "      <td>1810.00</td>\n",
       "      <td>1870.00</td>\n",
       "      <td>1990.00</td>\n",
       "      <td>2080.00</td>\n",
       "      <td>2170.00</td>\n",
       "      <td>2250.00</td>\n",
       "    </tr>\n",
       "    <tr>\n",
       "      <th>1</th>\n",
       "      <td>Albania</td>\n",
       "      <td>204.00</td>\n",
       "      <td>204.00</td>\n",
       "      <td>205.00</td>\n",
       "      <td>201.00</td>\n",
       "      <td>195.00</td>\n",
       "      <td>191.00</td>\n",
       "      <td>188.00</td>\n",
       "      <td>186.00</td>\n",
       "      <td>184.00</td>\n",
       "      <td>183.00</td>\n",
       "      <td>181.00</td>\n",
       "    </tr>\n",
       "    <tr>\n",
       "      <th>2</th>\n",
       "      <td>Algeria</td>\n",
       "      <td>1220.00</td>\n",
       "      <td>1240.00</td>\n",
       "      <td>1250.00</td>\n",
       "      <td>1270.00</td>\n",
       "      <td>1290.00</td>\n",
       "      <td>1310.00</td>\n",
       "      <td>1340.00</td>\n",
       "      <td>1370.00</td>\n",
       "      <td>1410.00</td>\n",
       "      <td>1420.00</td>\n",
       "      <td>1440.00</td>\n",
       "    </tr>\n",
       "    <tr>\n",
       "      <th>3</th>\n",
       "      <td>Andorra</td>\n",
       "      <td>7.19</td>\n",
       "      <td>7.39</td>\n",
       "      <td>7.53</td>\n",
       "      <td>7.67</td>\n",
       "      <td>7.76</td>\n",
       "      <td>7.85</td>\n",
       "      <td>7.92</td>\n",
       "      <td>7.97</td>\n",
       "      <td>7.72</td>\n",
       "      <td>7.78</td>\n",
       "      <td>7.84</td>\n",
       "    </tr>\n",
       "    <tr>\n",
       "      <th>4</th>\n",
       "      <td>Angola</td>\n",
       "      <td>1010.00</td>\n",
       "      <td>1040.00</td>\n",
       "      <td>1060.00</td>\n",
       "      <td>1080.00</td>\n",
       "      <td>1100.00</td>\n",
       "      <td>1120.00</td>\n",
       "      <td>1140.00</td>\n",
       "      <td>1170.00</td>\n",
       "      <td>1200.00</td>\n",
       "      <td>1220.00</td>\n",
       "      <td>1230.00</td>\n",
       "    </tr>\n",
       "    <tr>\n",
       "      <th>...</th>\n",
       "      <td>...</td>\n",
       "      <td>...</td>\n",
       "      <td>...</td>\n",
       "      <td>...</td>\n",
       "      <td>...</td>\n",
       "      <td>...</td>\n",
       "      <td>...</td>\n",
       "      <td>...</td>\n",
       "      <td>...</td>\n",
       "      <td>...</td>\n",
       "      <td>...</td>\n",
       "      <td>...</td>\n",
       "    </tr>\n",
       "    <tr>\n",
       "      <th>182</th>\n",
       "      <td>Venezuela</td>\n",
       "      <td>2460.00</td>\n",
       "      <td>2560.00</td>\n",
       "      <td>2640.00</td>\n",
       "      <td>2680.00</td>\n",
       "      <td>2610.00</td>\n",
       "      <td>2660.00</td>\n",
       "      <td>2780.00</td>\n",
       "      <td>2760.00</td>\n",
       "      <td>2840.00</td>\n",
       "      <td>2920.00</td>\n",
       "      <td>2970.00</td>\n",
       "    </tr>\n",
       "    <tr>\n",
       "      <th>183</th>\n",
       "      <td>Vietnam</td>\n",
       "      <td>7400.00</td>\n",
       "      <td>7360.00</td>\n",
       "      <td>7340.00</td>\n",
       "      <td>7390.00</td>\n",
       "      <td>7430.00</td>\n",
       "      <td>7480.00</td>\n",
       "      <td>7530.00</td>\n",
       "      <td>7590.00</td>\n",
       "      <td>7640.00</td>\n",
       "      <td>7680.00</td>\n",
       "      <td>7740.00</td>\n",
       "    </tr>\n",
       "    <tr>\n",
       "      <th>184</th>\n",
       "      <td>Yemen</td>\n",
       "      <td>962.00</td>\n",
       "      <td>997.00</td>\n",
       "      <td>1030.00</td>\n",
       "      <td>1070.00</td>\n",
       "      <td>1110.00</td>\n",
       "      <td>1160.00</td>\n",
       "      <td>1210.00</td>\n",
       "      <td>1260.00</td>\n",
       "      <td>1320.00</td>\n",
       "      <td>1390.00</td>\n",
       "      <td>1450.00</td>\n",
       "    </tr>\n",
       "    <tr>\n",
       "      <th>185</th>\n",
       "      <td>Zambia</td>\n",
       "      <td>1080.00</td>\n",
       "      <td>1100.00</td>\n",
       "      <td>1120.00</td>\n",
       "      <td>1140.00</td>\n",
       "      <td>1170.00</td>\n",
       "      <td>1210.00</td>\n",
       "      <td>1240.00</td>\n",
       "      <td>1270.00</td>\n",
       "      <td>1300.00</td>\n",
       "      <td>1340.00</td>\n",
       "      <td>1380.00</td>\n",
       "    </tr>\n",
       "    <tr>\n",
       "      <th>186</th>\n",
       "      <td>Zimbabwe</td>\n",
       "      <td>1930.00</td>\n",
       "      <td>1940.00</td>\n",
       "      <td>1980.00</td>\n",
       "      <td>1990.00</td>\n",
       "      <td>2000.00</td>\n",
       "      <td>2000.00</td>\n",
       "      <td>2010.00</td>\n",
       "      <td>2030.00</td>\n",
       "      <td>2080.00</td>\n",
       "      <td>2130.00</td>\n",
       "      <td>2200.00</td>\n",
       "    </tr>\n",
       "  </tbody>\n",
       "</table>\n",
       "<p>187 rows × 12 columns</p>\n",
       "</div>"
      ],
      "text/plain": [
       "         country     2006     2007     2008     2009     2010     2011  \\\n",
       "0    Afghanistan  1650.00  1680.00  1710.00  1750.00  1760.00  1810.00   \n",
       "1        Albania   204.00   204.00   205.00   201.00   195.00   191.00   \n",
       "2        Algeria  1220.00  1240.00  1250.00  1270.00  1290.00  1310.00   \n",
       "3        Andorra     7.19     7.39     7.53     7.67     7.76     7.85   \n",
       "4         Angola  1010.00  1040.00  1060.00  1080.00  1100.00  1120.00   \n",
       "..           ...      ...      ...      ...      ...      ...      ...   \n",
       "182    Venezuela  2460.00  2560.00  2640.00  2680.00  2610.00  2660.00   \n",
       "183      Vietnam  7400.00  7360.00  7340.00  7390.00  7430.00  7480.00   \n",
       "184        Yemen   962.00   997.00  1030.00  1070.00  1110.00  1160.00   \n",
       "185       Zambia  1080.00  1100.00  1120.00  1140.00  1170.00  1210.00   \n",
       "186     Zimbabwe  1930.00  1940.00  1980.00  1990.00  2000.00  2000.00   \n",
       "\n",
       "        2012     2013     2014     2015     2016  \n",
       "0    1870.00  1990.00  2080.00  2170.00  2250.00  \n",
       "1     188.00   186.00   184.00   183.00   181.00  \n",
       "2    1340.00  1370.00  1410.00  1420.00  1440.00  \n",
       "3       7.92     7.97     7.72     7.78     7.84  \n",
       "4    1140.00  1170.00  1200.00  1220.00  1230.00  \n",
       "..       ...      ...      ...      ...      ...  \n",
       "182  2780.00  2760.00  2840.00  2920.00  2970.00  \n",
       "183  7530.00  7590.00  7640.00  7680.00  7740.00  \n",
       "184  1210.00  1260.00  1320.00  1390.00  1450.00  \n",
       "185  1240.00  1270.00  1300.00  1340.00  1380.00  \n",
       "186  2010.00  2030.00  2080.00  2130.00  2200.00  \n",
       "\n",
       "[187 rows x 12 columns]"
      ]
     },
     "execution_count": 7,
     "metadata": {},
     "output_type": "execute_result"
    }
   ],
   "source": [
    "#slicing the time frame from 2006 to 2016\n",
    "suicide_fixed=suicide_raw.loc[:,'2006':'2016']\n",
    "#taking the country column and putting it as first column\n",
    "suicide_fixed.insert(0, 'country', suicide_raw['country'])\n",
    "suicide_fixed"
   ]
  },
  {
   "cell_type": "markdown",
   "metadata": {},
   "source": [
    "Here we trimmed one of our datasets to our desired time frame "
   ]
  },
  {
   "cell_type": "code",
   "execution_count": 8,
   "metadata": {},
   "outputs": [],
   "source": [
    "#reshaping our dataset using melt function\n",
    "suicide_fixed=pd.melt(suicide_raw, id_vars=['country'], value_vars=['2006', '2007','2008','2009', '2010','2011','2012', '2013','2014','2015','2016'])"
   ]
  },
  {
   "cell_type": "code",
   "execution_count": 9,
   "metadata": {},
   "outputs": [
    {
     "data": {
      "text/html": [
       "<div>\n",
       "<style scoped>\n",
       "    .dataframe tbody tr th:only-of-type {\n",
       "        vertical-align: middle;\n",
       "    }\n",
       "\n",
       "    .dataframe tbody tr th {\n",
       "        vertical-align: top;\n",
       "    }\n",
       "\n",
       "    .dataframe thead th {\n",
       "        text-align: right;\n",
       "    }\n",
       "</style>\n",
       "<table border=\"1\" class=\"dataframe\">\n",
       "  <thead>\n",
       "    <tr style=\"text-align: right;\">\n",
       "      <th></th>\n",
       "      <th>country</th>\n",
       "      <th>year</th>\n",
       "      <th>Suicides</th>\n",
       "    </tr>\n",
       "  </thead>\n",
       "  <tbody>\n",
       "    <tr>\n",
       "      <th>0</th>\n",
       "      <td>Afghanistan</td>\n",
       "      <td>2006</td>\n",
       "      <td>1650.00</td>\n",
       "    </tr>\n",
       "    <tr>\n",
       "      <th>1</th>\n",
       "      <td>Albania</td>\n",
       "      <td>2006</td>\n",
       "      <td>204.00</td>\n",
       "    </tr>\n",
       "    <tr>\n",
       "      <th>2</th>\n",
       "      <td>Algeria</td>\n",
       "      <td>2006</td>\n",
       "      <td>1220.00</td>\n",
       "    </tr>\n",
       "    <tr>\n",
       "      <th>3</th>\n",
       "      <td>Andorra</td>\n",
       "      <td>2006</td>\n",
       "      <td>7.19</td>\n",
       "    </tr>\n",
       "    <tr>\n",
       "      <th>4</th>\n",
       "      <td>Angola</td>\n",
       "      <td>2006</td>\n",
       "      <td>1010.00</td>\n",
       "    </tr>\n",
       "    <tr>\n",
       "      <th>...</th>\n",
       "      <td>...</td>\n",
       "      <td>...</td>\n",
       "      <td>...</td>\n",
       "    </tr>\n",
       "    <tr>\n",
       "      <th>2052</th>\n",
       "      <td>Venezuela</td>\n",
       "      <td>2016</td>\n",
       "      <td>2970.00</td>\n",
       "    </tr>\n",
       "    <tr>\n",
       "      <th>2053</th>\n",
       "      <td>Vietnam</td>\n",
       "      <td>2016</td>\n",
       "      <td>7740.00</td>\n",
       "    </tr>\n",
       "    <tr>\n",
       "      <th>2054</th>\n",
       "      <td>Yemen</td>\n",
       "      <td>2016</td>\n",
       "      <td>1450.00</td>\n",
       "    </tr>\n",
       "    <tr>\n",
       "      <th>2055</th>\n",
       "      <td>Zambia</td>\n",
       "      <td>2016</td>\n",
       "      <td>1380.00</td>\n",
       "    </tr>\n",
       "    <tr>\n",
       "      <th>2056</th>\n",
       "      <td>Zimbabwe</td>\n",
       "      <td>2016</td>\n",
       "      <td>2200.00</td>\n",
       "    </tr>\n",
       "  </tbody>\n",
       "</table>\n",
       "<p>2057 rows × 3 columns</p>\n",
       "</div>"
      ],
      "text/plain": [
       "          country  year  Suicides\n",
       "0     Afghanistan  2006   1650.00\n",
       "1         Albania  2006    204.00\n",
       "2         Algeria  2006   1220.00\n",
       "3         Andorra  2006      7.19\n",
       "4          Angola  2006   1010.00\n",
       "...           ...   ...       ...\n",
       "2052    Venezuela  2016   2970.00\n",
       "2053      Vietnam  2016   7740.00\n",
       "2054        Yemen  2016   1450.00\n",
       "2055       Zambia  2016   1380.00\n",
       "2056     Zimbabwe  2016   2200.00\n",
       "\n",
       "[2057 rows x 3 columns]"
      ]
     },
     "execution_count": 9,
     "metadata": {},
     "output_type": "execute_result"
    }
   ],
   "source": [
    "#renaming the new columns\n",
    "suicide_fixed.rename(columns={'variable': 'year','value':'Suicides'}, inplace=True)\n",
    "suicide_fixed"
   ]
  },
  {
   "cell_type": "markdown",
   "metadata": {},
   "source": [
    "Now we have a clean and a more approachable dataset that we can do analysis on and merge with other datasets"
   ]
  },
  {
   "cell_type": "code",
   "execution_count": 10,
   "metadata": {},
   "outputs": [
    {
     "data": {
      "text/html": [
       "<div>\n",
       "<style scoped>\n",
       "    .dataframe tbody tr th:only-of-type {\n",
       "        vertical-align: middle;\n",
       "    }\n",
       "\n",
       "    .dataframe tbody tr th {\n",
       "        vertical-align: top;\n",
       "    }\n",
       "\n",
       "    .dataframe thead th {\n",
       "        text-align: right;\n",
       "    }\n",
       "</style>\n",
       "<table border=\"1\" class=\"dataframe\">\n",
       "  <thead>\n",
       "    <tr style=\"text-align: right;\">\n",
       "      <th></th>\n",
       "      <th>country</th>\n",
       "      <th>year</th>\n",
       "      <th>population</th>\n",
       "    </tr>\n",
       "  </thead>\n",
       "  <tbody>\n",
       "    <tr>\n",
       "      <th>0</th>\n",
       "      <td>Afghanistan</td>\n",
       "      <td>2006</td>\n",
       "      <td>26400000</td>\n",
       "    </tr>\n",
       "    <tr>\n",
       "      <th>1</th>\n",
       "      <td>Albania</td>\n",
       "      <td>2006</td>\n",
       "      <td>3060000</td>\n",
       "    </tr>\n",
       "    <tr>\n",
       "      <th>2</th>\n",
       "      <td>Algeria</td>\n",
       "      <td>2006</td>\n",
       "      <td>33600000</td>\n",
       "    </tr>\n",
       "    <tr>\n",
       "      <th>3</th>\n",
       "      <td>Andorra</td>\n",
       "      <td>2006</td>\n",
       "      <td>81000</td>\n",
       "    </tr>\n",
       "    <tr>\n",
       "      <th>4</th>\n",
       "      <td>Angola</td>\n",
       "      <td>2006</td>\n",
       "      <td>20100000</td>\n",
       "    </tr>\n",
       "    <tr>\n",
       "      <th>...</th>\n",
       "      <td>...</td>\n",
       "      <td>...</td>\n",
       "      <td>...</td>\n",
       "    </tr>\n",
       "    <tr>\n",
       "      <th>2140</th>\n",
       "      <td>Venezuela</td>\n",
       "      <td>2016</td>\n",
       "      <td>29900000</td>\n",
       "    </tr>\n",
       "    <tr>\n",
       "      <th>2141</th>\n",
       "      <td>Vietnam</td>\n",
       "      <td>2016</td>\n",
       "      <td>93600000</td>\n",
       "    </tr>\n",
       "    <tr>\n",
       "      <th>2142</th>\n",
       "      <td>Yemen</td>\n",
       "      <td>2016</td>\n",
       "      <td>27200000</td>\n",
       "    </tr>\n",
       "    <tr>\n",
       "      <th>2143</th>\n",
       "      <td>Zambia</td>\n",
       "      <td>2016</td>\n",
       "      <td>16400000</td>\n",
       "    </tr>\n",
       "    <tr>\n",
       "      <th>2144</th>\n",
       "      <td>Zimbabwe</td>\n",
       "      <td>2016</td>\n",
       "      <td>14000000</td>\n",
       "    </tr>\n",
       "  </tbody>\n",
       "</table>\n",
       "<p>2145 rows × 3 columns</p>\n",
       "</div>"
      ],
      "text/plain": [
       "          country  year  population\n",
       "0     Afghanistan  2006    26400000\n",
       "1         Albania  2006     3060000\n",
       "2         Algeria  2006    33600000\n",
       "3         Andorra  2006       81000\n",
       "4          Angola  2006    20100000\n",
       "...           ...   ...         ...\n",
       "2140    Venezuela  2016    29900000\n",
       "2141      Vietnam  2016    93600000\n",
       "2142        Yemen  2016    27200000\n",
       "2143       Zambia  2016    16400000\n",
       "2144     Zimbabwe  2016    14000000\n",
       "\n",
       "[2145 rows x 3 columns]"
      ]
     },
     "execution_count": 10,
     "metadata": {},
     "output_type": "execute_result"
    }
   ],
   "source": [
    "#repeating the same steps on population dataset\n",
    "pop_fixed=pop_raw.loc[:,'2006':'2016']\n",
    "pop_fixed.insert(0, 'country', pop_raw['country'])\n",
    "pop_fixed=pd.melt(pop_fixed, id_vars=['country'], value_vars=['2006', '2007','2008','2009', '2010','2011','2012', '2013','2014','2015','2016'])\n",
    "pop_fixed.rename(columns={'variable': 'year','value':'population'}, inplace=True)\n",
    "pop_fixed"
   ]
  },
  {
   "cell_type": "markdown",
   "metadata": {},
   "source": [
    "Now the pop_fixed dataframe is in the same formate as the suicide_fixed Dataframe"
   ]
  },
  {
   "cell_type": "code",
   "execution_count": 11,
   "metadata": {},
   "outputs": [
    {
     "data": {
      "text/html": [
       "<div>\n",
       "<style scoped>\n",
       "    .dataframe tbody tr th:only-of-type {\n",
       "        vertical-align: middle;\n",
       "    }\n",
       "\n",
       "    .dataframe tbody tr th {\n",
       "        vertical-align: top;\n",
       "    }\n",
       "\n",
       "    .dataframe thead th {\n",
       "        text-align: right;\n",
       "    }\n",
       "</style>\n",
       "<table border=\"1\" class=\"dataframe\">\n",
       "  <thead>\n",
       "    <tr style=\"text-align: right;\">\n",
       "      <th></th>\n",
       "      <th>country</th>\n",
       "      <th>year</th>\n",
       "      <th>hdi</th>\n",
       "    </tr>\n",
       "  </thead>\n",
       "  <tbody>\n",
       "    <tr>\n",
       "      <th>0</th>\n",
       "      <td>Afghanistan</td>\n",
       "      <td>2006</td>\n",
       "      <td>0.419</td>\n",
       "    </tr>\n",
       "    <tr>\n",
       "      <th>1</th>\n",
       "      <td>Albania</td>\n",
       "      <td>2006</td>\n",
       "      <td>0.709</td>\n",
       "    </tr>\n",
       "    <tr>\n",
       "      <th>2</th>\n",
       "      <td>Algeria</td>\n",
       "      <td>2006</td>\n",
       "      <td>0.699</td>\n",
       "    </tr>\n",
       "    <tr>\n",
       "      <th>3</th>\n",
       "      <td>Andorra</td>\n",
       "      <td>2006</td>\n",
       "      <td>0.829</td>\n",
       "    </tr>\n",
       "    <tr>\n",
       "      <th>4</th>\n",
       "      <td>Angola</td>\n",
       "      <td>2006</td>\n",
       "      <td>0.466</td>\n",
       "    </tr>\n",
       "    <tr>\n",
       "      <th>...</th>\n",
       "      <td>...</td>\n",
       "      <td>...</td>\n",
       "      <td>...</td>\n",
       "    </tr>\n",
       "    <tr>\n",
       "      <th>2063</th>\n",
       "      <td>Venezuela</td>\n",
       "      <td>2016</td>\n",
       "      <td>0.752</td>\n",
       "    </tr>\n",
       "    <tr>\n",
       "      <th>2064</th>\n",
       "      <td>Vietnam</td>\n",
       "      <td>2016</td>\n",
       "      <td>0.685</td>\n",
       "    </tr>\n",
       "    <tr>\n",
       "      <th>2065</th>\n",
       "      <td>Yemen</td>\n",
       "      <td>2016</td>\n",
       "      <td>0.477</td>\n",
       "    </tr>\n",
       "    <tr>\n",
       "      <th>2066</th>\n",
       "      <td>Zambia</td>\n",
       "      <td>2016</td>\n",
       "      <td>0.580</td>\n",
       "    </tr>\n",
       "    <tr>\n",
       "      <th>2067</th>\n",
       "      <td>Zimbabwe</td>\n",
       "      <td>2016</td>\n",
       "      <td>0.549</td>\n",
       "    </tr>\n",
       "  </tbody>\n",
       "</table>\n",
       "<p>2068 rows × 3 columns</p>\n",
       "</div>"
      ],
      "text/plain": [
       "          country  year    hdi\n",
       "0     Afghanistan  2006  0.419\n",
       "1         Albania  2006  0.709\n",
       "2         Algeria  2006  0.699\n",
       "3         Andorra  2006  0.829\n",
       "4          Angola  2006  0.466\n",
       "...           ...   ...    ...\n",
       "2063    Venezuela  2016  0.752\n",
       "2064      Vietnam  2016  0.685\n",
       "2065        Yemen  2016  0.477\n",
       "2066       Zambia  2016  0.580\n",
       "2067     Zimbabwe  2016  0.549\n",
       "\n",
       "[2068 rows x 3 columns]"
      ]
     },
     "execution_count": 11,
     "metadata": {},
     "output_type": "execute_result"
    }
   ],
   "source": [
    "#repeating the same steps on HDI dataset\n",
    "hdi_fixed=hdi_raw.loc[:,'2006':'2016']\n",
    "hdi_fixed.insert(0, 'country', hdi_raw['country'])\n",
    "hdi_fixed=pd.melt(hdi_fixed, id_vars=['country'], value_vars=['2006', '2007','2008','2009', '2010','2011','2012', '2013','2014','2015','2016'])\n",
    "hdi_fixed.rename(columns={'variable': 'year','value':'hdi'}, inplace=True)\n",
    "hdi_fixed"
   ]
  },
  {
   "cell_type": "code",
   "execution_count": 12,
   "metadata": {},
   "outputs": [
    {
     "data": {
      "text/html": [
       "<div>\n",
       "<style scoped>\n",
       "    .dataframe tbody tr th:only-of-type {\n",
       "        vertical-align: middle;\n",
       "    }\n",
       "\n",
       "    .dataframe tbody tr th {\n",
       "        vertical-align: top;\n",
       "    }\n",
       "\n",
       "    .dataframe thead th {\n",
       "        text-align: right;\n",
       "    }\n",
       "</style>\n",
       "<table border=\"1\" class=\"dataframe\">\n",
       "  <thead>\n",
       "    <tr style=\"text-align: right;\">\n",
       "      <th></th>\n",
       "      <th>country</th>\n",
       "      <th>year</th>\n",
       "      <th>gpd</th>\n",
       "    </tr>\n",
       "  </thead>\n",
       "  <tbody>\n",
       "    <tr>\n",
       "      <th>0</th>\n",
       "      <td>Afghanistan</td>\n",
       "      <td>2006</td>\n",
       "      <td>365.0</td>\n",
       "    </tr>\n",
       "    <tr>\n",
       "      <th>1</th>\n",
       "      <td>Albania</td>\n",
       "      <td>2006</td>\n",
       "      <td>3260.0</td>\n",
       "    </tr>\n",
       "    <tr>\n",
       "      <th>2</th>\n",
       "      <td>Algeria</td>\n",
       "      <td>2006</td>\n",
       "      <td>4300.0</td>\n",
       "    </tr>\n",
       "    <tr>\n",
       "      <th>3</th>\n",
       "      <td>Andorra</td>\n",
       "      <td>2006</td>\n",
       "      <td>47800.0</td>\n",
       "    </tr>\n",
       "    <tr>\n",
       "      <th>4</th>\n",
       "      <td>Angola</td>\n",
       "      <td>2006</td>\n",
       "      <td>3100.0</td>\n",
       "    </tr>\n",
       "    <tr>\n",
       "      <th>...</th>\n",
       "      <td>...</td>\n",
       "      <td>...</td>\n",
       "      <td>...</td>\n",
       "    </tr>\n",
       "    <tr>\n",
       "      <th>2096</th>\n",
       "      <td>Venezuela</td>\n",
       "      <td>2016</td>\n",
       "      <td>NaN</td>\n",
       "    </tr>\n",
       "    <tr>\n",
       "      <th>2097</th>\n",
       "      <td>Vietnam</td>\n",
       "      <td>2016</td>\n",
       "      <td>1750.0</td>\n",
       "    </tr>\n",
       "    <tr>\n",
       "      <th>2098</th>\n",
       "      <td>Yemen</td>\n",
       "      <td>2016</td>\n",
       "      <td>694.0</td>\n",
       "    </tr>\n",
       "    <tr>\n",
       "      <th>2099</th>\n",
       "      <td>Zambia</td>\n",
       "      <td>2016</td>\n",
       "      <td>1650.0</td>\n",
       "    </tr>\n",
       "    <tr>\n",
       "      <th>2100</th>\n",
       "      <td>Zimbabwe</td>\n",
       "      <td>2016</td>\n",
       "      <td>1220.0</td>\n",
       "    </tr>\n",
       "  </tbody>\n",
       "</table>\n",
       "<p>2101 rows × 3 columns</p>\n",
       "</div>"
      ],
      "text/plain": [
       "          country  year      gpd\n",
       "0     Afghanistan  2006    365.0\n",
       "1         Albania  2006   3260.0\n",
       "2         Algeria  2006   4300.0\n",
       "3         Andorra  2006  47800.0\n",
       "4          Angola  2006   3100.0\n",
       "...           ...   ...      ...\n",
       "2096    Venezuela  2016      NaN\n",
       "2097      Vietnam  2016   1750.0\n",
       "2098        Yemen  2016    694.0\n",
       "2099       Zambia  2016   1650.0\n",
       "2100     Zimbabwe  2016   1220.0\n",
       "\n",
       "[2101 rows x 3 columns]"
      ]
     },
     "execution_count": 12,
     "metadata": {},
     "output_type": "execute_result"
    }
   ],
   "source": [
    "#repeating the same steps on GPD dataset\n",
    "gpd_fixed=gpd_raw.loc[:,'2006':'2016']\n",
    "gpd_fixed.insert(0, 'country', gpd_raw['country'])\n",
    "gpd_fixed=pd.melt(gpd_fixed, id_vars=['country'], value_vars=['2006', '2007','2008','2009', '2010','2011','2012', '2013','2014','2015','2016'])\n",
    "gpd_fixed.rename(columns={'variable': 'year','value':'gpd'}, inplace=True)\n",
    "gpd_fixed"
   ]
  },
  {
   "cell_type": "markdown",
   "metadata": {},
   "source": [
    "Now we reshaped all the datasets we gathered "
   ]
  },
  {
   "cell_type": "code",
   "execution_count": 13,
   "metadata": {},
   "outputs": [
    {
     "data": {
      "text/plain": [
       "['San Marino',\n",
       " 'Liechtenstein',\n",
       " 'Nauru',\n",
       " 'Palau',\n",
       " 'Monaco',\n",
       " 'Tuvalu',\n",
       " 'St. Kitts and Nevis',\n",
       " 'Holy See']"
      ]
     },
     "execution_count": 13,
     "metadata": {},
     "output_type": "execute_result"
    }
   ],
   "source": [
    "#finding the different countries of two data sets\n",
    "uni1=pop_fixed.country.unique()                        #all countries in pop set\n",
    "uni2=suicide_fixed.country.unique()                    #all countries in suicide set\n",
    "l=list(set(uni1).symmetric_difference(set(uni2)))      #countries that only exist in one set\n",
    "l"
   ]
  },
  {
   "cell_type": "markdown",
   "metadata": {},
   "source": [
    "now we have a list with countries that only exist in one set"
   ]
  },
  {
   "cell_type": "code",
   "execution_count": 14,
   "metadata": {},
   "outputs": [
    {
     "name": "stdout",
     "output_type": "stream",
     "text": [
      "Int64Index([146, 341, 536, 731, 926, 1121, 1316, 1511, 1706, 1901, 2096], dtype='int64')\n",
      "Int64Index([98, 293, 488, 683, 878, 1073, 1268, 1463, 1658, 1853, 2048], dtype='int64')\n",
      "Int64Index([120, 315, 510, 705, 900, 1095, 1290, 1485, 1680, 1875, 2070], dtype='int64')\n",
      "Int64Index([132, 327, 522, 717, 912, 1107, 1302, 1497, 1692, 1887, 2082], dtype='int64')\n",
      "Int64Index([113, 308, 503, 698, 893, 1088, 1283, 1478, 1673, 1868, 2063], dtype='int64')\n",
      "Int64Index([181, 376, 571, 766, 961, 1156, 1351, 1546, 1741, 1936, 2131], dtype='int64')\n",
      "Int64Index([163, 358, 553, 748, 943, 1138, 1333, 1528, 1723, 1918, 2113], dtype='int64')\n",
      "Int64Index([73, 268, 463, 658, 853, 1048, 1243, 1438, 1633, 1828, 2023], dtype='int64')\n"
     ]
    }
   ],
   "source": [
    "#removing the different countries in one dataset\n",
    "for con in range(len(l)):\n",
    "    x=pop_fixed[pop_fixed.country == l[con]]  #getting the index of every country in the list in the pop data set for every year\n",
    "    print(x.index)                            \n",
    "    pop_fixed.drop(x.index,inplace=True)      #dropping these indexes from the pop data set"
   ]
  },
  {
   "cell_type": "code",
   "execution_count": 15,
   "metadata": {},
   "outputs": [
    {
     "name": "stdout",
     "output_type": "stream",
     "text": [
      "187\n",
      "187\n"
     ]
    }
   ],
   "source": [
    "print (pop_fixed.country.nunique())\n",
    "print (suicide_fixed.country.nunique())"
   ]
  },
  {
   "cell_type": "markdown",
   "metadata": {},
   "source": [
    "Now both the Datasets have the same number and identical lineup of countries so they can be merged together flawlessly"
   ]
  },
  {
   "cell_type": "code",
   "execution_count": 16,
   "metadata": {},
   "outputs": [
    {
     "data": {
      "text/html": [
       "<div>\n",
       "<style scoped>\n",
       "    .dataframe tbody tr th:only-of-type {\n",
       "        vertical-align: middle;\n",
       "    }\n",
       "\n",
       "    .dataframe tbody tr th {\n",
       "        vertical-align: top;\n",
       "    }\n",
       "\n",
       "    .dataframe thead th {\n",
       "        text-align: right;\n",
       "    }\n",
       "</style>\n",
       "<table border=\"1\" class=\"dataframe\">\n",
       "  <thead>\n",
       "    <tr style=\"text-align: right;\">\n",
       "      <th></th>\n",
       "      <th>country</th>\n",
       "      <th>year</th>\n",
       "      <th>population</th>\n",
       "      <th>Suicides</th>\n",
       "    </tr>\n",
       "  </thead>\n",
       "  <tbody>\n",
       "    <tr>\n",
       "      <th>0</th>\n",
       "      <td>Afghanistan</td>\n",
       "      <td>2006</td>\n",
       "      <td>26400000</td>\n",
       "      <td>1650.00</td>\n",
       "    </tr>\n",
       "    <tr>\n",
       "      <th>1</th>\n",
       "      <td>Albania</td>\n",
       "      <td>2006</td>\n",
       "      <td>3060000</td>\n",
       "      <td>204.00</td>\n",
       "    </tr>\n",
       "    <tr>\n",
       "      <th>2</th>\n",
       "      <td>Algeria</td>\n",
       "      <td>2006</td>\n",
       "      <td>33600000</td>\n",
       "      <td>1220.00</td>\n",
       "    </tr>\n",
       "    <tr>\n",
       "      <th>3</th>\n",
       "      <td>Andorra</td>\n",
       "      <td>2006</td>\n",
       "      <td>81000</td>\n",
       "      <td>7.19</td>\n",
       "    </tr>\n",
       "    <tr>\n",
       "      <th>4</th>\n",
       "      <td>Angola</td>\n",
       "      <td>2006</td>\n",
       "      <td>20100000</td>\n",
       "      <td>1010.00</td>\n",
       "    </tr>\n",
       "    <tr>\n",
       "      <th>...</th>\n",
       "      <td>...</td>\n",
       "      <td>...</td>\n",
       "      <td>...</td>\n",
       "      <td>...</td>\n",
       "    </tr>\n",
       "    <tr>\n",
       "      <th>2052</th>\n",
       "      <td>Venezuela</td>\n",
       "      <td>2016</td>\n",
       "      <td>29900000</td>\n",
       "      <td>2970.00</td>\n",
       "    </tr>\n",
       "    <tr>\n",
       "      <th>2053</th>\n",
       "      <td>Vietnam</td>\n",
       "      <td>2016</td>\n",
       "      <td>93600000</td>\n",
       "      <td>7740.00</td>\n",
       "    </tr>\n",
       "    <tr>\n",
       "      <th>2054</th>\n",
       "      <td>Yemen</td>\n",
       "      <td>2016</td>\n",
       "      <td>27200000</td>\n",
       "      <td>1450.00</td>\n",
       "    </tr>\n",
       "    <tr>\n",
       "      <th>2055</th>\n",
       "      <td>Zambia</td>\n",
       "      <td>2016</td>\n",
       "      <td>16400000</td>\n",
       "      <td>1380.00</td>\n",
       "    </tr>\n",
       "    <tr>\n",
       "      <th>2056</th>\n",
       "      <td>Zimbabwe</td>\n",
       "      <td>2016</td>\n",
       "      <td>14000000</td>\n",
       "      <td>2200.00</td>\n",
       "    </tr>\n",
       "  </tbody>\n",
       "</table>\n",
       "<p>2057 rows × 4 columns</p>\n",
       "</div>"
      ],
      "text/plain": [
       "          country  year  population  Suicides\n",
       "0     Afghanistan  2006    26400000   1650.00\n",
       "1         Albania  2006     3060000    204.00\n",
       "2         Algeria  2006    33600000   1220.00\n",
       "3         Andorra  2006       81000      7.19\n",
       "4          Angola  2006    20100000   1010.00\n",
       "...           ...   ...         ...       ...\n",
       "2052    Venezuela  2016    29900000   2970.00\n",
       "2053      Vietnam  2016    93600000   7740.00\n",
       "2054        Yemen  2016    27200000   1450.00\n",
       "2055       Zambia  2016    16400000   1380.00\n",
       "2056     Zimbabwe  2016    14000000   2200.00\n",
       "\n",
       "[2057 rows x 4 columns]"
      ]
     },
     "execution_count": 16,
     "metadata": {},
     "output_type": "execute_result"
    }
   ],
   "source": [
    "all_data=pd.merge(pop_fixed,suicide_fixed)\n",
    "all_data"
   ]
  },
  {
   "cell_type": "markdown",
   "metadata": {},
   "source": [
    "Both the datasets have been successfully merged into one dataset. now its time to do the same steps for the rest of the datasets"
   ]
  },
  {
   "cell_type": "code",
   "execution_count": 17,
   "metadata": {},
   "outputs": [
    {
     "data": {
      "text/html": [
       "<div>\n",
       "<style scoped>\n",
       "    .dataframe tbody tr th:only-of-type {\n",
       "        vertical-align: middle;\n",
       "    }\n",
       "\n",
       "    .dataframe tbody tr th {\n",
       "        vertical-align: top;\n",
       "    }\n",
       "\n",
       "    .dataframe thead th {\n",
       "        text-align: right;\n",
       "    }\n",
       "</style>\n",
       "<table border=\"1\" class=\"dataframe\">\n",
       "  <thead>\n",
       "    <tr style=\"text-align: right;\">\n",
       "      <th></th>\n",
       "      <th>country</th>\n",
       "      <th>year</th>\n",
       "      <th>population</th>\n",
       "      <th>Suicides</th>\n",
       "      <th>suicide_per_100k</th>\n",
       "    </tr>\n",
       "  </thead>\n",
       "  <tbody>\n",
       "    <tr>\n",
       "      <th>0</th>\n",
       "      <td>Afghanistan</td>\n",
       "      <td>2006</td>\n",
       "      <td>26400000</td>\n",
       "      <td>1650.00</td>\n",
       "      <td>6.250000</td>\n",
       "    </tr>\n",
       "    <tr>\n",
       "      <th>1</th>\n",
       "      <td>Albania</td>\n",
       "      <td>2006</td>\n",
       "      <td>3060000</td>\n",
       "      <td>204.00</td>\n",
       "      <td>6.666667</td>\n",
       "    </tr>\n",
       "    <tr>\n",
       "      <th>2</th>\n",
       "      <td>Algeria</td>\n",
       "      <td>2006</td>\n",
       "      <td>33600000</td>\n",
       "      <td>1220.00</td>\n",
       "      <td>3.630952</td>\n",
       "    </tr>\n",
       "    <tr>\n",
       "      <th>3</th>\n",
       "      <td>Andorra</td>\n",
       "      <td>2006</td>\n",
       "      <td>81000</td>\n",
       "      <td>7.19</td>\n",
       "      <td>8.876543</td>\n",
       "    </tr>\n",
       "    <tr>\n",
       "      <th>4</th>\n",
       "      <td>Angola</td>\n",
       "      <td>2006</td>\n",
       "      <td>20100000</td>\n",
       "      <td>1010.00</td>\n",
       "      <td>5.024876</td>\n",
       "    </tr>\n",
       "    <tr>\n",
       "      <th>...</th>\n",
       "      <td>...</td>\n",
       "      <td>...</td>\n",
       "      <td>...</td>\n",
       "      <td>...</td>\n",
       "      <td>...</td>\n",
       "    </tr>\n",
       "    <tr>\n",
       "      <th>2052</th>\n",
       "      <td>Venezuela</td>\n",
       "      <td>2016</td>\n",
       "      <td>29900000</td>\n",
       "      <td>2970.00</td>\n",
       "      <td>9.933110</td>\n",
       "    </tr>\n",
       "    <tr>\n",
       "      <th>2053</th>\n",
       "      <td>Vietnam</td>\n",
       "      <td>2016</td>\n",
       "      <td>93600000</td>\n",
       "      <td>7740.00</td>\n",
       "      <td>8.269231</td>\n",
       "    </tr>\n",
       "    <tr>\n",
       "      <th>2054</th>\n",
       "      <td>Yemen</td>\n",
       "      <td>2016</td>\n",
       "      <td>27200000</td>\n",
       "      <td>1450.00</td>\n",
       "      <td>5.330882</td>\n",
       "    </tr>\n",
       "    <tr>\n",
       "      <th>2055</th>\n",
       "      <td>Zambia</td>\n",
       "      <td>2016</td>\n",
       "      <td>16400000</td>\n",
       "      <td>1380.00</td>\n",
       "      <td>8.414634</td>\n",
       "    </tr>\n",
       "    <tr>\n",
       "      <th>2056</th>\n",
       "      <td>Zimbabwe</td>\n",
       "      <td>2016</td>\n",
       "      <td>14000000</td>\n",
       "      <td>2200.00</td>\n",
       "      <td>15.714286</td>\n",
       "    </tr>\n",
       "  </tbody>\n",
       "</table>\n",
       "<p>2057 rows × 5 columns</p>\n",
       "</div>"
      ],
      "text/plain": [
       "          country  year  population  Suicides  suicide_per_100k\n",
       "0     Afghanistan  2006    26400000   1650.00          6.250000\n",
       "1         Albania  2006     3060000    204.00          6.666667\n",
       "2         Algeria  2006    33600000   1220.00          3.630952\n",
       "3         Andorra  2006       81000      7.19          8.876543\n",
       "4          Angola  2006    20100000   1010.00          5.024876\n",
       "...           ...   ...         ...       ...               ...\n",
       "2052    Venezuela  2016    29900000   2970.00          9.933110\n",
       "2053      Vietnam  2016    93600000   7740.00          8.269231\n",
       "2054        Yemen  2016    27200000   1450.00          5.330882\n",
       "2055       Zambia  2016    16400000   1380.00          8.414634\n",
       "2056     Zimbabwe  2016    14000000   2200.00         15.714286\n",
       "\n",
       "[2057 rows x 5 columns]"
      ]
     },
     "execution_count": 17,
     "metadata": {},
     "output_type": "execute_result"
    }
   ],
   "source": [
    "#finding the ratio of suicide per 100k for each row\n",
    "for c in range(2057):\n",
    "    all_data['suicide_per_100k']=(all_data['Suicides']/all_data['population'])*100000    #formula for the ratio\n",
    "all_data"
   ]
  },
  {
   "cell_type": "code",
   "execution_count": 18,
   "metadata": {},
   "outputs": [],
   "source": [
    "def diff(df1,df2):             #function to get a list of all different countries that only exist in one dataset\n",
    "    global l\n",
    "    uni1=df1.country.unique()\n",
    "    uni2=df2.country.unique()\n",
    "    l=list(set(uni1).symmetric_difference(set(uni2)))\n",
    "    return l\n",
    "def removing(df1,df2):         #function to find the indexes of these countries and remove it from the datasets (if it exist in one dataset)\n",
    "    for con in range(len(l)):\n",
    "        x=df1[df1.country == l[con]]\n",
    "        print(x.index)\n",
    "        df1.drop(x.index,inplace=True)\n",
    "    for con in range(len(l)):  # i added an extra for loop here to remove the countries that only exist in the original merged dataset      \n",
    "        x=df2[df2.country == l[con]]\n",
    "        print(x.index)\n",
    "        df2.drop(x.index,inplace=True)"
   ]
  },
  {
   "cell_type": "markdown",
   "metadata": {},
   "source": [
    "Insted of repeating the same codes again(like the reshaping steps). to find and remove the different countries for the rest of the datasets i'm going to make a function instead, of the same code i used to instanly apply it to the other remaining datasets to merge them with."
   ]
  },
  {
   "cell_type": "code",
   "execution_count": 19,
   "metadata": {},
   "outputs": [
    {
     "data": {
      "text/plain": [
       "['San Marino',\n",
       " 'Liechtenstein',\n",
       " 'Somalia',\n",
       " 'Syria',\n",
       " 'Nauru',\n",
       " 'Palau',\n",
       " 'Monaco',\n",
       " 'North Korea',\n",
       " 'Tuvalu',\n",
       " 'St. Kitts and Nevis']"
      ]
     },
     "execution_count": 19,
     "metadata": {},
     "output_type": "execute_result"
    }
   ],
   "source": [
    "diff(all_data,gpd_fixed) #different countries in each data set"
   ]
  },
  {
   "cell_type": "markdown",
   "metadata": {},
   "source": [
    "list of different countries in both data sets"
   ]
  },
  {
   "cell_type": "code",
   "execution_count": 20,
   "metadata": {},
   "outputs": [
    {
     "name": "stdout",
     "output_type": "stream",
     "text": [
      "Int64Index([], dtype='int64')\n",
      "Int64Index([], dtype='int64')\n",
      "Int64Index([151, 338, 525, 712, 899, 1086, 1273, 1460, 1647, 1834, 2021], dtype='int64')\n",
      "Int64Index([163, 350, 537, 724, 911, 1098, 1285, 1472, 1659, 1846, 2033], dtype='int64')\n",
      "Int64Index([], dtype='int64')\n",
      "Int64Index([], dtype='int64')\n",
      "Int64Index([], dtype='int64')\n",
      "Int64Index([123, 310, 497, 684, 871, 1058, 1245, 1432, 1619, 1806, 1993], dtype='int64')\n",
      "Int64Index([], dtype='int64')\n",
      "Int64Index([], dtype='int64')\n",
      "Int64Index([144, 335, 526, 717, 908, 1099, 1290, 1481, 1672, 1863, 2054], dtype='int64')\n",
      "Int64Index([97, 288, 479, 670, 861, 1052, 1243, 1434, 1625, 1816, 2007], dtype='int64')\n",
      "Int64Index([], dtype='int64')\n",
      "Int64Index([], dtype='int64')\n",
      "Int64Index([119, 310, 501, 692, 883, 1074, 1265, 1456, 1647, 1838, 2029], dtype='int64')\n",
      "Int64Index([130, 321, 512, 703, 894, 1085, 1276, 1467, 1658, 1849, 2040], dtype='int64')\n",
      "Int64Index([112, 303, 494, 685, 876, 1067, 1258, 1449, 1640, 1831, 2022], dtype='int64')\n",
      "Int64Index([], dtype='int64')\n",
      "Int64Index([177, 368, 559, 750, 941, 1132, 1323, 1514, 1705, 1896, 2087], dtype='int64')\n",
      "Int64Index([160, 351, 542, 733, 924, 1115, 1306, 1497, 1688, 1879, 2070], dtype='int64')\n"
     ]
    }
   ],
   "source": [
    "removing(all_data,gpd_fixed) #dropping the indexes of every different country in BOTH datasets"
   ]
  },
  {
   "cell_type": "markdown",
   "metadata": {},
   "source": [
    "Indexes of the different countries that got removed that existed in either data set. countries got removed from both datasets not just one "
   ]
  },
  {
   "cell_type": "code",
   "execution_count": 21,
   "metadata": {},
   "outputs": [
    {
     "name": "stdout",
     "output_type": "stream",
     "text": [
      "184\n",
      "184\n"
     ]
    }
   ],
   "source": [
    "print (gpd_fixed.country.nunique())\n",
    "print (all_data.country.nunique())"
   ]
  },
  {
   "cell_type": "markdown",
   "metadata": {},
   "source": [
    "now both the merged dataset and the GPD dataset can be merged"
   ]
  },
  {
   "cell_type": "code",
   "execution_count": 22,
   "metadata": {},
   "outputs": [
    {
     "data": {
      "text/html": [
       "<div>\n",
       "<style scoped>\n",
       "    .dataframe tbody tr th:only-of-type {\n",
       "        vertical-align: middle;\n",
       "    }\n",
       "\n",
       "    .dataframe tbody tr th {\n",
       "        vertical-align: top;\n",
       "    }\n",
       "\n",
       "    .dataframe thead th {\n",
       "        text-align: right;\n",
       "    }\n",
       "</style>\n",
       "<table border=\"1\" class=\"dataframe\">\n",
       "  <thead>\n",
       "    <tr style=\"text-align: right;\">\n",
       "      <th></th>\n",
       "      <th>country</th>\n",
       "      <th>year</th>\n",
       "      <th>population</th>\n",
       "      <th>Suicides</th>\n",
       "      <th>suicide_per_100k</th>\n",
       "      <th>gpd</th>\n",
       "    </tr>\n",
       "  </thead>\n",
       "  <tbody>\n",
       "    <tr>\n",
       "      <th>0</th>\n",
       "      <td>Afghanistan</td>\n",
       "      <td>2006</td>\n",
       "      <td>26400000</td>\n",
       "      <td>1650.00</td>\n",
       "      <td>6.250000</td>\n",
       "      <td>365.0</td>\n",
       "    </tr>\n",
       "    <tr>\n",
       "      <th>1</th>\n",
       "      <td>Albania</td>\n",
       "      <td>2006</td>\n",
       "      <td>3060000</td>\n",
       "      <td>204.00</td>\n",
       "      <td>6.666667</td>\n",
       "      <td>3260.0</td>\n",
       "    </tr>\n",
       "    <tr>\n",
       "      <th>2</th>\n",
       "      <td>Algeria</td>\n",
       "      <td>2006</td>\n",
       "      <td>33600000</td>\n",
       "      <td>1220.00</td>\n",
       "      <td>3.630952</td>\n",
       "      <td>4300.0</td>\n",
       "    </tr>\n",
       "    <tr>\n",
       "      <th>3</th>\n",
       "      <td>Andorra</td>\n",
       "      <td>2006</td>\n",
       "      <td>81000</td>\n",
       "      <td>7.19</td>\n",
       "      <td>8.876543</td>\n",
       "      <td>47800.0</td>\n",
       "    </tr>\n",
       "    <tr>\n",
       "      <th>4</th>\n",
       "      <td>Angola</td>\n",
       "      <td>2006</td>\n",
       "      <td>20100000</td>\n",
       "      <td>1010.00</td>\n",
       "      <td>5.024876</td>\n",
       "      <td>3100.0</td>\n",
       "    </tr>\n",
       "    <tr>\n",
       "      <th>...</th>\n",
       "      <td>...</td>\n",
       "      <td>...</td>\n",
       "      <td>...</td>\n",
       "      <td>...</td>\n",
       "      <td>...</td>\n",
       "      <td>...</td>\n",
       "    </tr>\n",
       "    <tr>\n",
       "      <th>2019</th>\n",
       "      <td>Venezuela</td>\n",
       "      <td>2016</td>\n",
       "      <td>29900000</td>\n",
       "      <td>2970.00</td>\n",
       "      <td>9.933110</td>\n",
       "      <td>NaN</td>\n",
       "    </tr>\n",
       "    <tr>\n",
       "      <th>2020</th>\n",
       "      <td>Vietnam</td>\n",
       "      <td>2016</td>\n",
       "      <td>93600000</td>\n",
       "      <td>7740.00</td>\n",
       "      <td>8.269231</td>\n",
       "      <td>1750.0</td>\n",
       "    </tr>\n",
       "    <tr>\n",
       "      <th>2021</th>\n",
       "      <td>Yemen</td>\n",
       "      <td>2016</td>\n",
       "      <td>27200000</td>\n",
       "      <td>1450.00</td>\n",
       "      <td>5.330882</td>\n",
       "      <td>694.0</td>\n",
       "    </tr>\n",
       "    <tr>\n",
       "      <th>2022</th>\n",
       "      <td>Zambia</td>\n",
       "      <td>2016</td>\n",
       "      <td>16400000</td>\n",
       "      <td>1380.00</td>\n",
       "      <td>8.414634</td>\n",
       "      <td>1650.0</td>\n",
       "    </tr>\n",
       "    <tr>\n",
       "      <th>2023</th>\n",
       "      <td>Zimbabwe</td>\n",
       "      <td>2016</td>\n",
       "      <td>14000000</td>\n",
       "      <td>2200.00</td>\n",
       "      <td>15.714286</td>\n",
       "      <td>1220.0</td>\n",
       "    </tr>\n",
       "  </tbody>\n",
       "</table>\n",
       "<p>2024 rows × 6 columns</p>\n",
       "</div>"
      ],
      "text/plain": [
       "          country  year  population  Suicides  suicide_per_100k      gpd\n",
       "0     Afghanistan  2006    26400000   1650.00          6.250000    365.0\n",
       "1         Albania  2006     3060000    204.00          6.666667   3260.0\n",
       "2         Algeria  2006    33600000   1220.00          3.630952   4300.0\n",
       "3         Andorra  2006       81000      7.19          8.876543  47800.0\n",
       "4          Angola  2006    20100000   1010.00          5.024876   3100.0\n",
       "...           ...   ...         ...       ...               ...      ...\n",
       "2019    Venezuela  2016    29900000   2970.00          9.933110      NaN\n",
       "2020      Vietnam  2016    93600000   7740.00          8.269231   1750.0\n",
       "2021        Yemen  2016    27200000   1450.00          5.330882    694.0\n",
       "2022       Zambia  2016    16400000   1380.00          8.414634   1650.0\n",
       "2023     Zimbabwe  2016    14000000   2200.00         15.714286   1220.0\n",
       "\n",
       "[2024 rows x 6 columns]"
      ]
     },
     "execution_count": 22,
     "metadata": {},
     "output_type": "execute_result"
    }
   ],
   "source": [
    "all_data=pd.merge(all_data,gpd_fixed)\n",
    "all_data"
   ]
  },
  {
   "cell_type": "code",
   "execution_count": 23,
   "metadata": {},
   "outputs": [
    {
     "data": {
      "text/plain": [
       "['Liechtenstein', 'Syria', 'Palau', 'St. Kitts and Nevis']"
      ]
     },
     "execution_count": 23,
     "metadata": {},
     "output_type": "execute_result"
    }
   ],
   "source": [
    "#finding different countries in datasets\n",
    "diff(all_data,hdi_fixed) #different countries in each data set"
   ]
  },
  {
   "cell_type": "code",
   "execution_count": 24,
   "metadata": {},
   "outputs": [
    {
     "name": "stdout",
     "output_type": "stream",
     "text": [
      "Int64Index([], dtype='int64')\n",
      "Int64Index([], dtype='int64')\n",
      "Int64Index([], dtype='int64')\n",
      "Int64Index([], dtype='int64')\n",
      "Int64Index([97, 285, 473, 661, 849, 1037, 1225, 1413, 1601, 1789, 1977], dtype='int64')\n",
      "Int64Index([164, 352, 540, 728, 916, 1104, 1292, 1480, 1668, 1856, 2044], dtype='int64')\n",
      "Int64Index([128, 316, 504, 692, 880, 1068, 1256, 1444, 1632, 1820, 2008], dtype='int64')\n",
      "Int64Index([157, 345, 533, 721, 909, 1097, 1285, 1473, 1661, 1849, 2037], dtype='int64')\n"
     ]
    }
   ],
   "source": [
    "#removing different countries\n",
    "removing(all_data,hdi_fixed) #dropping the indexes of every different country in BOTH datasets"
   ]
  },
  {
   "cell_type": "markdown",
   "metadata": {},
   "source": [
    "The different countries only existed in the hdi dataset so nothing was removed from the merged dataset"
   ]
  },
  {
   "cell_type": "code",
   "execution_count": 25,
   "metadata": {},
   "outputs": [
    {
     "data": {
      "text/html": [
       "<div>\n",
       "<style scoped>\n",
       "    .dataframe tbody tr th:only-of-type {\n",
       "        vertical-align: middle;\n",
       "    }\n",
       "\n",
       "    .dataframe tbody tr th {\n",
       "        vertical-align: top;\n",
       "    }\n",
       "\n",
       "    .dataframe thead th {\n",
       "        text-align: right;\n",
       "    }\n",
       "</style>\n",
       "<table border=\"1\" class=\"dataframe\">\n",
       "  <thead>\n",
       "    <tr style=\"text-align: right;\">\n",
       "      <th></th>\n",
       "      <th>country</th>\n",
       "      <th>year</th>\n",
       "      <th>population</th>\n",
       "      <th>Suicides</th>\n",
       "      <th>suicide_per_100k</th>\n",
       "      <th>gpd</th>\n",
       "      <th>hdi</th>\n",
       "    </tr>\n",
       "  </thead>\n",
       "  <tbody>\n",
       "    <tr>\n",
       "      <th>0</th>\n",
       "      <td>Afghanistan</td>\n",
       "      <td>2006</td>\n",
       "      <td>26400000</td>\n",
       "      <td>1650.00</td>\n",
       "      <td>6.250000</td>\n",
       "      <td>365.0</td>\n",
       "      <td>0.419</td>\n",
       "    </tr>\n",
       "    <tr>\n",
       "      <th>1</th>\n",
       "      <td>Albania</td>\n",
       "      <td>2006</td>\n",
       "      <td>3060000</td>\n",
       "      <td>204.00</td>\n",
       "      <td>6.666667</td>\n",
       "      <td>3260.0</td>\n",
       "      <td>0.709</td>\n",
       "    </tr>\n",
       "    <tr>\n",
       "      <th>2</th>\n",
       "      <td>Algeria</td>\n",
       "      <td>2006</td>\n",
       "      <td>33600000</td>\n",
       "      <td>1220.00</td>\n",
       "      <td>3.630952</td>\n",
       "      <td>4300.0</td>\n",
       "      <td>0.699</td>\n",
       "    </tr>\n",
       "    <tr>\n",
       "      <th>3</th>\n",
       "      <td>Andorra</td>\n",
       "      <td>2006</td>\n",
       "      <td>81000</td>\n",
       "      <td>7.19</td>\n",
       "      <td>8.876543</td>\n",
       "      <td>47800.0</td>\n",
       "      <td>0.829</td>\n",
       "    </tr>\n",
       "    <tr>\n",
       "      <th>4</th>\n",
       "      <td>Angola</td>\n",
       "      <td>2006</td>\n",
       "      <td>20100000</td>\n",
       "      <td>1010.00</td>\n",
       "      <td>5.024876</td>\n",
       "      <td>3100.0</td>\n",
       "      <td>0.466</td>\n",
       "    </tr>\n",
       "    <tr>\n",
       "      <th>...</th>\n",
       "      <td>...</td>\n",
       "      <td>...</td>\n",
       "      <td>...</td>\n",
       "      <td>...</td>\n",
       "      <td>...</td>\n",
       "      <td>...</td>\n",
       "      <td>...</td>\n",
       "    </tr>\n",
       "    <tr>\n",
       "      <th>2019</th>\n",
       "      <td>Venezuela</td>\n",
       "      <td>2016</td>\n",
       "      <td>29900000</td>\n",
       "      <td>2970.00</td>\n",
       "      <td>9.933110</td>\n",
       "      <td>NaN</td>\n",
       "      <td>0.752</td>\n",
       "    </tr>\n",
       "    <tr>\n",
       "      <th>2020</th>\n",
       "      <td>Vietnam</td>\n",
       "      <td>2016</td>\n",
       "      <td>93600000</td>\n",
       "      <td>7740.00</td>\n",
       "      <td>8.269231</td>\n",
       "      <td>1750.0</td>\n",
       "      <td>0.685</td>\n",
       "    </tr>\n",
       "    <tr>\n",
       "      <th>2021</th>\n",
       "      <td>Yemen</td>\n",
       "      <td>2016</td>\n",
       "      <td>27200000</td>\n",
       "      <td>1450.00</td>\n",
       "      <td>5.330882</td>\n",
       "      <td>694.0</td>\n",
       "      <td>0.477</td>\n",
       "    </tr>\n",
       "    <tr>\n",
       "      <th>2022</th>\n",
       "      <td>Zambia</td>\n",
       "      <td>2016</td>\n",
       "      <td>16400000</td>\n",
       "      <td>1380.00</td>\n",
       "      <td>8.414634</td>\n",
       "      <td>1650.0</td>\n",
       "      <td>0.580</td>\n",
       "    </tr>\n",
       "    <tr>\n",
       "      <th>2023</th>\n",
       "      <td>Zimbabwe</td>\n",
       "      <td>2016</td>\n",
       "      <td>14000000</td>\n",
       "      <td>2200.00</td>\n",
       "      <td>15.714286</td>\n",
       "      <td>1220.0</td>\n",
       "      <td>0.549</td>\n",
       "    </tr>\n",
       "  </tbody>\n",
       "</table>\n",
       "<p>2024 rows × 7 columns</p>\n",
       "</div>"
      ],
      "text/plain": [
       "          country  year  population  Suicides  suicide_per_100k      gpd  \\\n",
       "0     Afghanistan  2006    26400000   1650.00          6.250000    365.0   \n",
       "1         Albania  2006     3060000    204.00          6.666667   3260.0   \n",
       "2         Algeria  2006    33600000   1220.00          3.630952   4300.0   \n",
       "3         Andorra  2006       81000      7.19          8.876543  47800.0   \n",
       "4          Angola  2006    20100000   1010.00          5.024876   3100.0   \n",
       "...           ...   ...         ...       ...               ...      ...   \n",
       "2019    Venezuela  2016    29900000   2970.00          9.933110      NaN   \n",
       "2020      Vietnam  2016    93600000   7740.00          8.269231   1750.0   \n",
       "2021        Yemen  2016    27200000   1450.00          5.330882    694.0   \n",
       "2022       Zambia  2016    16400000   1380.00          8.414634   1650.0   \n",
       "2023     Zimbabwe  2016    14000000   2200.00         15.714286   1220.0   \n",
       "\n",
       "        hdi  \n",
       "0     0.419  \n",
       "1     0.709  \n",
       "2     0.699  \n",
       "3     0.829  \n",
       "4     0.466  \n",
       "...     ...  \n",
       "2019  0.752  \n",
       "2020  0.685  \n",
       "2021  0.477  \n",
       "2022  0.580  \n",
       "2023  0.549  \n",
       "\n",
       "[2024 rows x 7 columns]"
      ]
     },
     "execution_count": 25,
     "metadata": {},
     "output_type": "execute_result"
    }
   ],
   "source": [
    "#merging datasets\n",
    "all_data=pd.merge(all_data,hdi_fixed)\n",
    "all_data"
   ]
  },
  {
   "cell_type": "code",
   "execution_count": 26,
   "metadata": {},
   "outputs": [],
   "source": [
    "#dropping all non existing values\n",
    "all_data.dropna(inplace=True)"
   ]
  },
  {
   "cell_type": "code",
   "execution_count": 27,
   "metadata": {},
   "outputs": [
    {
     "name": "stdout",
     "output_type": "stream",
     "text": [
      "<class 'pandas.core.frame.DataFrame'>\n",
      "Int64Index: 1987 entries, 0 to 2023\n",
      "Data columns (total 7 columns):\n",
      " #   Column            Non-Null Count  Dtype  \n",
      "---  ------            --------------  -----  \n",
      " 0   country           1987 non-null   object \n",
      " 1   year              1987 non-null   object \n",
      " 2   population        1987 non-null   int64  \n",
      " 3   Suicides          1987 non-null   float64\n",
      " 4   suicide_per_100k  1987 non-null   float64\n",
      " 5   gpd               1987 non-null   float64\n",
      " 6   hdi               1987 non-null   float64\n",
      "dtypes: float64(4), int64(1), object(2)\n",
      "memory usage: 124.2+ KB\n"
     ]
    }
   ],
   "source": [
    "all_data.info()"
   ]
  },
  {
   "cell_type": "markdown",
   "metadata": {},
   "source": [
    "Now the datasets have been combined and cleaned and ready to be analysed"
   ]
  },
  {
   "cell_type": "markdown",
   "metadata": {},
   "source": [
    "<a id='eda'></a>\n",
    "## Exploratory Data Analysis\n",
    "\n",
    "\n",
    "### looking closer at every country suicide rate"
   ]
  },
  {
   "cell_type": "code",
   "execution_count": 28,
   "metadata": {},
   "outputs": [
    {
     "data": {
      "text/html": [
       "<div>\n",
       "<style scoped>\n",
       "    .dataframe tbody tr th:only-of-type {\n",
       "        vertical-align: middle;\n",
       "    }\n",
       "\n",
       "    .dataframe tbody tr th {\n",
       "        vertical-align: top;\n",
       "    }\n",
       "\n",
       "    .dataframe thead th {\n",
       "        text-align: right;\n",
       "    }\n",
       "</style>\n",
       "<table border=\"1\" class=\"dataframe\">\n",
       "  <thead>\n",
       "    <tr style=\"text-align: right;\">\n",
       "      <th></th>\n",
       "      <th>Suicides</th>\n",
       "      <th>suicide_per_100k</th>\n",
       "      <th>gpd</th>\n",
       "      <th>hdi</th>\n",
       "    </tr>\n",
       "    <tr>\n",
       "      <th>country</th>\n",
       "      <th></th>\n",
       "      <th></th>\n",
       "      <th></th>\n",
       "      <th></th>\n",
       "    </tr>\n",
       "  </thead>\n",
       "  <tbody>\n",
       "    <tr>\n",
       "      <th>Afghanistan</th>\n",
       "      <td>1883.636364</td>\n",
       "      <td>6.170127</td>\n",
       "      <td>512.363636</td>\n",
       "      <td>0.463182</td>\n",
       "    </tr>\n",
       "    <tr>\n",
       "      <th>Albania</th>\n",
       "      <td>192.909091</td>\n",
       "      <td>6.540323</td>\n",
       "      <td>4089.090909</td>\n",
       "      <td>0.754000</td>\n",
       "    </tr>\n",
       "    <tr>\n",
       "      <th>Algeria</th>\n",
       "      <td>1323.636364</td>\n",
       "      <td>3.594230</td>\n",
       "      <td>4546.363636</td>\n",
       "      <td>0.731273</td>\n",
       "    </tr>\n",
       "    <tr>\n",
       "      <th>Andorra</th>\n",
       "      <td>7.692727</td>\n",
       "      <td>9.433288</td>\n",
       "      <td>42681.818182</td>\n",
       "      <td>0.838727</td>\n",
       "    </tr>\n",
       "    <tr>\n",
       "      <th>Angola</th>\n",
       "      <td>1124.545455</td>\n",
       "      <td>4.651008</td>\n",
       "      <td>3595.454545</td>\n",
       "      <td>0.523727</td>\n",
       "    </tr>\n",
       "    <tr>\n",
       "      <th>Antigua and Barbuda</th>\n",
       "      <td>2.039091</td>\n",
       "      <td>2.293062</td>\n",
       "      <td>14063.636364</td>\n",
       "      <td>0.772818</td>\n",
       "    </tr>\n",
       "    <tr>\n",
       "      <th>Argentina</th>\n",
       "      <td>4763.636364</td>\n",
       "      <td>11.514311</td>\n",
       "      <td>10242.727273</td>\n",
       "      <td>0.817818</td>\n",
       "    </tr>\n",
       "    <tr>\n",
       "      <th>Armenia</th>\n",
       "      <td>236.363636</td>\n",
       "      <td>8.125263</td>\n",
       "      <td>3510.909091</td>\n",
       "      <td>0.733636</td>\n",
       "    </tr>\n",
       "    <tr>\n",
       "      <th>Australia</th>\n",
       "      <td>2652.727273</td>\n",
       "      <td>11.811139</td>\n",
       "      <td>52900.000000</td>\n",
       "      <td>0.924273</td>\n",
       "    </tr>\n",
       "    <tr>\n",
       "      <th>Austria</th>\n",
       "      <td>1466.363636</td>\n",
       "      <td>17.299486</td>\n",
       "      <td>47518.181818</td>\n",
       "      <td>0.892545</td>\n",
       "    </tr>\n",
       "  </tbody>\n",
       "</table>\n",
       "</div>"
      ],
      "text/plain": [
       "                        Suicides  suicide_per_100k           gpd       hdi\n",
       "country                                                                   \n",
       "Afghanistan          1883.636364          6.170127    512.363636  0.463182\n",
       "Albania               192.909091          6.540323   4089.090909  0.754000\n",
       "Algeria              1323.636364          3.594230   4546.363636  0.731273\n",
       "Andorra                 7.692727          9.433288  42681.818182  0.838727\n",
       "Angola               1124.545455          4.651008   3595.454545  0.523727\n",
       "Antigua and Barbuda     2.039091          2.293062  14063.636364  0.772818\n",
       "Argentina            4763.636364         11.514311  10242.727273  0.817818\n",
       "Armenia               236.363636          8.125263   3510.909091  0.733636\n",
       "Australia            2652.727273         11.811139  52900.000000  0.924273\n",
       "Austria              1466.363636         17.299486  47518.181818  0.892545"
      ]
     },
     "execution_count": 28,
     "metadata": {},
     "output_type": "execute_result"
    }
   ],
   "source": [
    "df_mean=all_data.groupby('country').mean().drop('population',axis=1)\n",
    "df_mean.head(10)"
   ]
  },
  {
   "cell_type": "markdown",
   "metadata": {},
   "source": [
    "df for the mean for every country from 2006 to 2016"
   ]
  },
  {
   "cell_type": "code",
   "execution_count": 29,
   "metadata": {},
   "outputs": [
    {
     "data": {
      "text/html": [
       "<div>\n",
       "<style scoped>\n",
       "    .dataframe tbody tr th:only-of-type {\n",
       "        vertical-align: middle;\n",
       "    }\n",
       "\n",
       "    .dataframe tbody tr th {\n",
       "        vertical-align: top;\n",
       "    }\n",
       "\n",
       "    .dataframe thead th {\n",
       "        text-align: right;\n",
       "    }\n",
       "</style>\n",
       "<table border=\"1\" class=\"dataframe\">\n",
       "  <thead>\n",
       "    <tr style=\"text-align: right;\">\n",
       "      <th></th>\n",
       "      <th>Suicides</th>\n",
       "      <th>suicide_per_100k</th>\n",
       "      <th>gpd</th>\n",
       "      <th>hdi</th>\n",
       "    </tr>\n",
       "  </thead>\n",
       "  <tbody>\n",
       "    <tr>\n",
       "      <th>count</th>\n",
       "      <td>183.000000</td>\n",
       "      <td>183.000000</td>\n",
       "      <td>183.000000</td>\n",
       "      <td>183.000000</td>\n",
       "    </tr>\n",
       "    <tr>\n",
       "      <th>mean</th>\n",
       "      <td>4422.710554</td>\n",
       "      <td>10.337245</td>\n",
       "      <td>12738.063524</td>\n",
       "      <td>0.683515</td>\n",
       "    </tr>\n",
       "    <tr>\n",
       "      <th>std</th>\n",
       "      <td>20371.120612</td>\n",
       "      <td>7.346450</td>\n",
       "      <td>18166.967243</td>\n",
       "      <td>0.156201</td>\n",
       "    </tr>\n",
       "    <tr>\n",
       "      <th>min</th>\n",
       "      <td>2.039091</td>\n",
       "      <td>1.747117</td>\n",
       "      <td>232.363636</td>\n",
       "      <td>0.327636</td>\n",
       "    </tr>\n",
       "    <tr>\n",
       "      <th>25%</th>\n",
       "      <td>182.590909</td>\n",
       "      <td>5.393824</td>\n",
       "      <td>1402.272727</td>\n",
       "      <td>0.547364</td>\n",
       "    </tr>\n",
       "    <tr>\n",
       "      <th>50%</th>\n",
       "      <td>631.727273</td>\n",
       "      <td>8.066609</td>\n",
       "      <td>4890.909091</td>\n",
       "      <td>0.713364</td>\n",
       "    </tr>\n",
       "    <tr>\n",
       "      <th>75%</th>\n",
       "      <td>2056.363636</td>\n",
       "      <td>13.130363</td>\n",
       "      <td>14122.727273</td>\n",
       "      <td>0.800682</td>\n",
       "    </tr>\n",
       "    <tr>\n",
       "      <th>max</th>\n",
       "      <td>222727.272727</td>\n",
       "      <td>41.403098</td>\n",
       "      <td>106181.818182</td>\n",
       "      <td>0.942455</td>\n",
       "    </tr>\n",
       "  </tbody>\n",
       "</table>\n",
       "</div>"
      ],
      "text/plain": [
       "            Suicides  suicide_per_100k            gpd         hdi\n",
       "count     183.000000        183.000000     183.000000  183.000000\n",
       "mean     4422.710554         10.337245   12738.063524    0.683515\n",
       "std     20371.120612          7.346450   18166.967243    0.156201\n",
       "min         2.039091          1.747117     232.363636    0.327636\n",
       "25%       182.590909          5.393824    1402.272727    0.547364\n",
       "50%       631.727273          8.066609    4890.909091    0.713364\n",
       "75%      2056.363636         13.130363   14122.727273    0.800682\n",
       "max    222727.272727         41.403098  106181.818182    0.942455"
      ]
     },
     "execution_count": 29,
     "metadata": {},
     "output_type": "execute_result"
    }
   ],
   "source": [
    "df_mean.describe()"
   ]
  },
  {
   "cell_type": "markdown",
   "metadata": {},
   "source": [
    "Descriptive statistics of the mean for the countries of the time period"
   ]
  },
  {
   "cell_type": "code",
   "execution_count": 30,
   "metadata": {},
   "outputs": [
    {
     "data": {
      "text/plain": [
       "country\n",
       "Afghanistan     6.170127\n",
       "Albania         6.540323\n",
       "Algeria         3.594230\n",
       "Andorra         9.433288\n",
       "Angola          4.651008\n",
       "                 ...    \n",
       "Venezuela       9.363542\n",
       "Vietnam         8.441081\n",
       "Yemen           4.917856\n",
       "Zambia          8.603973\n",
       "Zimbabwe       15.606148\n",
       "Name: suicide_per_100k, Length: 183, dtype: float64"
      ]
     },
     "execution_count": 30,
     "metadata": {},
     "output_type": "execute_result"
    }
   ],
   "source": [
    "all_data.groupby('country').suicide_per_100k.mean()"
   ]
  },
  {
   "cell_type": "markdown",
   "metadata": {},
   "source": [
    "The mean of the suicide ratio for countries from 2006 to 2016"
   ]
  },
  {
   "cell_type": "code",
   "execution_count": 51,
   "metadata": {},
   "outputs": [
    {
     "data": {
      "image/png": "[encoded data removed]",
      "text/plain": [
       "<Figure size 576x288 with 1 Axes>"
      ]
     },
     "metadata": {},
     "output_type": "display_data"
    }
   ],
   "source": [
    "all_data.groupby('country').suicide_per_100k.mean().nlargest(20).plot(kind='bar',figsize=(8,4))\n",
    "plt.title('countries with the highest suicide rate')\n",
    "plt.ylabel('Suicide rate');"
   ]
  },
  {
   "cell_type": "markdown",
   "metadata": {},
   "source": [
    "Bar chart of the top 20 countries with highest suicide per 100k pop from 2006 to 2016"
   ]
  },
  {
   "cell_type": "code",
   "execution_count": 50,
   "metadata": {},
   "outputs": [
    {
     "data": {
      "image/png": "[encoded data removed]",
      "text/plain": [
       "<Figure size 576x288 with 1 Axes>"
      ]
     },
     "metadata": {},
     "output_type": "display_data"
    }
   ],
   "source": [
    "all_data.groupby('country').suicide_per_100k.mean().nsmallest(20).plot(kind='bar',figsize=(8,4))\n",
    "plt.title('countries with the lowest suicide rate')\n",
    "plt.ylabel('Suicide rate');"
   ]
  },
  {
   "cell_type": "markdown",
   "metadata": {},
   "source": [
    "Bar chart of the top 20 countries with lowest suicide per 100k pop from 2006 to 2016"
   ]
  },
  {
   "cell_type": "code",
   "execution_count": 52,
   "metadata": {},
   "outputs": [
    {
     "data": {
      "image/png": "[encoded data removed]",
      "text/plain": [
       "<Figure size 576x288 with 1 Axes>"
      ]
     },
     "metadata": {},
     "output_type": "display_data"
    }
   ],
   "source": [
    "all_data['Suicides'].groupby(all_data.year).sum().plot(figsize=(8,4))\n",
    "plt.title('Total Suicide cases per year')\n",
    "plt.ylabel('Suicide Cases');"
   ]
  },
  {
   "cell_type": "markdown",
   "metadata": {},
   "source": [
    "The change of suicide cases over the time period"
   ]
  },
  {
   "cell_type": "markdown",
   "metadata": {},
   "source": [
    "### Does a country's living standards and economy have an effect on suicide?"
   ]
  },
  {
   "cell_type": "code",
   "execution_count": 54,
   "metadata": {},
   "outputs": [
    {
     "data": {
      "image/png": "[encoded data removed]",
      "text/plain": [
       "<Figure size 720x360 with 1 Axes>"
      ]
     },
     "metadata": {},
     "output_type": "display_data"
    }
   ],
   "source": [
    "df_mean.groupby(['country','hdi']).suicide_per_100k.mean().nlargest(20).plot(kind='bar',figsize=(10,5))\n",
    "plt.title('countries with the highest suicide rate to its HDI')\n",
    "plt.ylabel('Suicide rate');"
   ]
  },
  {
   "cell_type": "markdown",
   "metadata": {},
   "source": [
    "Highest countries with thier respective hdi"
   ]
  },
  {
   "cell_type": "code",
   "execution_count": 55,
   "metadata": {},
   "outputs": [
    {
     "data": {
      "image/png": "[encoded data removed]",
      "text/plain": [
       "<Figure size 720x360 with 1 Axes>"
      ]
     },
     "metadata": {},
     "output_type": "display_data"
    }
   ],
   "source": [
    "df_mean.groupby(['country','hdi']).suicide_per_100k.mean().nsmallest(20).plot(kind='bar',figsize=(10,5))\n",
    "plt.title('countries with the lowest suicide rate with its HDI')\n",
    "plt.ylabel('Suicide rate');"
   ]
  },
  {
   "cell_type": "markdown",
   "metadata": {},
   "source": [
    "Lowest countries with thier respective hdi"
   ]
  },
  {
   "cell_type": "code",
   "execution_count": 36,
   "metadata": {},
   "outputs": [
    {
     "data": {
      "text/html": [
       "<div>\n",
       "<style scoped>\n",
       "    .dataframe tbody tr th:only-of-type {\n",
       "        vertical-align: middle;\n",
       "    }\n",
       "\n",
       "    .dataframe tbody tr th {\n",
       "        vertical-align: top;\n",
       "    }\n",
       "\n",
       "    .dataframe thead th {\n",
       "        text-align: right;\n",
       "    }\n",
       "</style>\n",
       "<table border=\"1\" class=\"dataframe\">\n",
       "  <thead>\n",
       "    <tr style=\"text-align: right;\">\n",
       "      <th></th>\n",
       "      <th>Suicides</th>\n",
       "      <th>suicide_per_100k</th>\n",
       "      <th>gpd</th>\n",
       "      <th>hdi</th>\n",
       "    </tr>\n",
       "  </thead>\n",
       "  <tbody>\n",
       "    <tr>\n",
       "      <th>count</th>\n",
       "      <td>183.000000</td>\n",
       "      <td>183.000000</td>\n",
       "      <td>183.000000</td>\n",
       "      <td>183.000000</td>\n",
       "    </tr>\n",
       "    <tr>\n",
       "      <th>mean</th>\n",
       "      <td>4422.710554</td>\n",
       "      <td>10.337245</td>\n",
       "      <td>12738.063524</td>\n",
       "      <td>0.683515</td>\n",
       "    </tr>\n",
       "    <tr>\n",
       "      <th>std</th>\n",
       "      <td>20371.120612</td>\n",
       "      <td>7.346450</td>\n",
       "      <td>18166.967243</td>\n",
       "      <td>0.156201</td>\n",
       "    </tr>\n",
       "    <tr>\n",
       "      <th>min</th>\n",
       "      <td>2.039091</td>\n",
       "      <td>1.747117</td>\n",
       "      <td>232.363636</td>\n",
       "      <td>0.327636</td>\n",
       "    </tr>\n",
       "    <tr>\n",
       "      <th>25%</th>\n",
       "      <td>182.590909</td>\n",
       "      <td>5.393824</td>\n",
       "      <td>1402.272727</td>\n",
       "      <td>0.547364</td>\n",
       "    </tr>\n",
       "    <tr>\n",
       "      <th>50%</th>\n",
       "      <td>631.727273</td>\n",
       "      <td>8.066609</td>\n",
       "      <td>4890.909091</td>\n",
       "      <td>0.713364</td>\n",
       "    </tr>\n",
       "    <tr>\n",
       "      <th>75%</th>\n",
       "      <td>2056.363636</td>\n",
       "      <td>13.130363</td>\n",
       "      <td>14122.727273</td>\n",
       "      <td>0.800682</td>\n",
       "    </tr>\n",
       "    <tr>\n",
       "      <th>max</th>\n",
       "      <td>222727.272727</td>\n",
       "      <td>41.403098</td>\n",
       "      <td>106181.818182</td>\n",
       "      <td>0.942455</td>\n",
       "    </tr>\n",
       "  </tbody>\n",
       "</table>\n",
       "</div>"
      ],
      "text/plain": [
       "            Suicides  suicide_per_100k            gpd         hdi\n",
       "count     183.000000        183.000000     183.000000  183.000000\n",
       "mean     4422.710554         10.337245   12738.063524    0.683515\n",
       "std     20371.120612          7.346450   18166.967243    0.156201\n",
       "min         2.039091          1.747117     232.363636    0.327636\n",
       "25%       182.590909          5.393824    1402.272727    0.547364\n",
       "50%       631.727273          8.066609    4890.909091    0.713364\n",
       "75%      2056.363636         13.130363   14122.727273    0.800682\n",
       "max    222727.272727         41.403098  106181.818182    0.942455"
      ]
     },
     "execution_count": 36,
     "metadata": {},
     "output_type": "execute_result"
    }
   ],
   "source": [
    "df_mean.describe()"
   ]
  },
  {
   "cell_type": "code",
   "execution_count": 37,
   "metadata": {},
   "outputs": [
    {
     "data": {
      "text/plain": [
       "country      hdi     \n",
       "Lithuania    0.835818    41.403098\n",
       "Russia       0.788818    38.449451\n",
       "Belarus      0.789909    33.839552\n",
       "Kazakhstan   0.777545    31.249986\n",
       "South Korea  0.884091    30.982851\n",
       "Guyana       0.645273    29.844587\n",
       "Ukraine      0.736455    27.109386\n",
       "Latvia       0.826182    26.364735\n",
       "Lesotho      0.469909    25.917030\n",
       "Hungary      0.825636    25.710796\n",
       "Sri Lanka    0.754273    24.834611\n",
       "Japan        0.891636    24.094818\n",
       "Suriname     0.708545    23.863624\n",
       "Kiribati     0.597000    23.578746\n",
       "Slovenia     0.880364    23.527553\n",
       "Estonia      0.852727    21.859193\n",
       "Mongolia     0.705000    21.513440\n",
       "Belgium      0.904636    20.680468\n",
       "France       0.876364    20.052016\n",
       "Croatia      0.815091    19.940250\n",
       "Name: suicide_per_100k, dtype: float64"
      ]
     },
     "execution_count": 37,
     "metadata": {},
     "output_type": "execute_result"
    }
   ],
   "source": [
    "df_mean.groupby(['country','hdi']).suicide_per_100k.mean().nlargest(20)"
   ]
  },
  {
   "cell_type": "code",
   "execution_count": 38,
   "metadata": {},
   "outputs": [
    {
     "data": {
      "text/plain": [
       "country                hdi     \n",
       "Sao Tome and Principe  0.555909    1.747117\n",
       "Palestine              0.672727    2.214549\n",
       "Lebanon                0.738545    2.229827\n",
       "Antigua and Barbuda    0.772818    2.293062\n",
       "Jordan                 0.727182    2.425793\n",
       "Jamaica                0.719636    2.656064\n",
       "Maldives               0.678545    2.869890\n",
       "Mali                   0.400000    2.881722\n",
       "Oman                   0.796909    2.902344\n",
       "Kuwait                 0.796636    2.967477\n",
       "Mauritania             0.498273    3.068484\n",
       "Saudi Arabia           0.821455    3.117357\n",
       "Gambia                 0.438818    3.161357\n",
       "Honduras               0.600455    3.188176\n",
       "Peru                   0.729364    3.219209\n",
       "Turkey                 0.753273    3.225731\n",
       "Bahamas                0.795818    3.228119\n",
       "Egypt                  0.670273    3.340314\n",
       "Indonesia              0.671909    3.434693\n",
       "Nigeria                0.500636    3.490376\n",
       "Name: suicide_per_100k, dtype: float64"
      ]
     },
     "execution_count": 38,
     "metadata": {},
     "output_type": "execute_result"
    }
   ],
   "source": [
    "df_mean.groupby(['country','hdi']).suicide_per_100k.mean().nsmallest(20)"
   ]
  },
  {
   "cell_type": "markdown",
   "metadata": {},
   "source": [
    "by observing the highest and lowest countries. half of the highest ratio countries falls in the third quartile in all the countries HDI while in the lowest ratio countries, only a single country falls in the third quartile of the HDI."
   ]
  },
  {
   "cell_type": "code",
   "execution_count": 62,
   "metadata": {},
   "outputs": [
    {
     "data": {
      "image/png": "[encoded data removed]",
      "text/plain": [
       "<Figure size 576x360 with 1 Axes>"
      ]
     },
     "metadata": {},
     "output_type": "display_data"
    }
   ],
   "source": [
    "sns.set(rc={'figure.figsize':(8,5)})\n",
    "sns.scatterplot(\"hdi\",\"suicide_per_100k\", data=df_mean)\n",
    "plt.title('Suicide rate per HDI for each country');"
   ]
  },
  {
   "cell_type": "markdown",
   "metadata": {},
   "source": [
    "The scatterplot between the suicide ratio and the HDI does not give any conceret visual analysis for the corralation between the two. as some countries can have high hdi and normal suicide ratio and other countries can have high hdi and high suicide ratio. although the latter might be more into the higher suicde ratio than the average compared to the low hdi countries"
   ]
  },
  {
   "cell_type": "code",
   "execution_count": 60,
   "metadata": {},
   "outputs": [
    {
     "data": {
      "image/png": "[encoded data removed]",
      "text/plain": [
       "<Figure size 576x360 with 1 Axes>"
      ]
     },
     "metadata": {},
     "output_type": "display_data"
    }
   ],
   "source": [
    "sns.scatterplot(\"gpd\",\"suicide_per_100k\", data=df_mean)\n",
    "plt.title('Suicide rate per GDP for each country');"
   ]
  },
  {
   "cell_type": "markdown",
   "metadata": {},
   "source": [
    "while the scatterplot between the gpd and suicide ratio does not have any correlation between the two"
   ]
  },
  {
   "cell_type": "code",
   "execution_count": 57,
   "metadata": {},
   "outputs": [
    {
     "data": {
      "image/png": "[encoded data removed]",
      "text/plain": [
       "<Figure size 576x360 with 2 Axes>"
      ]
     },
     "metadata": {},
     "output_type": "display_data"
    }
   ],
   "source": [
    "sns.heatmap(all_data.corr(), annot=True)\n",
    "plt.title('Heat map');"
   ]
  },
  {
   "cell_type": "markdown",
   "metadata": {},
   "source": [
    "<a id='conclusions'></a>\n",
    "## Conclusions\n",
    "\n",
    "after trying to see if a country HDI (human development index) or GPD per capita have any effect on it's suicide cases ratio. i have failed to get any concrete idea about any positive or negative correlation it might have as it seems most of them were random. even though in some high hdi countries \n",
    "can have more suicide ratio. its most likey the effect of other causes rather than the ones i tried to analyze. "
   ]
  },
  {
   "cell_type": "markdown",
   "metadata": {},
   "source": [
    "<a id='Limitations'></a>\n",
    "## Limitaitons"
   ]
  },
  {
   "cell_type": "markdown",
   "metadata": {},
   "source": [
    "♦ The data were taken from gapminder as several datasets    and combined together in the data wrapping part thus the connection between them was purely hypothetical.\n",
    "\n",
    "♦ due to some NaN values in some countries in specific factors, some countries needed to be removed. \n",
    "\n",
    "♦ There was no concrete evidence gathered from this data to prove that one or more of these factors have an effect on the suicide rate. "
   ]
  }
 ],
 "metadata": {
  "kernelspec": {
   "display_name": "Python 3",
   "language": "python",
   "name": "python3"
  },
  "language_info": {
   "codemirror_mode": {
    "name": "ipython",
    "version": 3
   },
   "file_extension": ".py",
   "mimetype": "text/x-python",
   "name": "python",
   "nbconvert_exporter": "python",
   "pygments_lexer": "ipython3",
   "version": "3.8.8"
  }
 },
 "nbformat": 4,
 "nbformat_minor": 4
}
